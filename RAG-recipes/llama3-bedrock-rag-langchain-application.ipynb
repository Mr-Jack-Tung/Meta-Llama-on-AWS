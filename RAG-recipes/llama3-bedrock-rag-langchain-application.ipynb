{
 "cells": [
  {
   "cell_type": "markdown",
   "id": "e3eed142-6144-4ba2-a693-2bcfdeeae823",
   "metadata": {},
   "source": [
    "# Retrieval Augmented Question (RAG) Application with Llama3-8B on Bedrock using LangChain\n",
    "\n",
    "RAG Application use cases with Llama3-8B on Bedrock"
   ]
  },
  {
   "cell_type": "markdown",
   "id": "4c7a66db-4d22-4e0f-883c-8e8daf6a4291",
   "metadata": {},
   "source": [
    "In this notebook, we demonstrate the use of [Llama3-8B](https://huggingface.co/meta-llama/Llama-2-13b) text generation combined with [Amazon Titan Embedding v2](https://docs.aws.amazon.com/bedrock/latest/userguide/model-parameters-titan-embed-text.html) embedding model to efficiently construct a Retrieval Augmented Generation (RAG) QnA system on a SageMaker Notebook. This notebook, powered by an `ml.t3.medium instance`, uses LLMs deployed on [Amazon Bedrock](https://docs.aws.amazon.com/bedrock/latest/userguide/what-is-bedrock.html). These can be called with an API, which we then use to build, experiment with, and tune for comparing Advanced RAG application techniques using [LangChain](https://www.langchain.com/). Additionally, we showcase how the [FAISS](https://github.com/facebookresearch/faiss) Embedding store can be utilized to archive and retrieve embeddings, integrating it into your RAG workflow. "
   ]
  },
  {
   "cell_type": "markdown",
   "id": "267f4f95-dfab-4c64-956e-6c29274131d0",
   "metadata": {},
   "source": [
    "## Prerequisites"
   ]
  },
  {
   "cell_type": "markdown",
   "id": "7d597937-7c3e-42cc-b595-309bd8e5ae28",
   "metadata": {},
   "source": [
    "---\n",
    "This Jupyter Notebook can be run on a t3.medium instance (ml.t3.medium). Other items needed to run this notebook are:\n",
    "\n",
    "1. Configure AWS CLI in the notebook instance with your AWS credentials\n",
    "2. Add BedrockAccess policy to your AWS user or role\n",
    "3. Follow the instructions in the pre-requisites document to set up your Jupyter space instance"
   ]
  },
  {
   "cell_type": "markdown",
   "id": "f8e19e16-86b3-4e27-94bf-00e2f832605c",
   "metadata": {
    "tags": []
   },
   "source": [
    "## Contents\n",
    "---\n",
    "\n",
    "1. [Requirements](#Requirements)\n",
    "1. [Model Deployment](#00.-Model-Deployment)\n",
    "1. [Setup LangChain](#01.-Setup-LangChain)\n",
    "1. [Data Preparation](#Data-Preparation)\n",
    "1. [Question Answering](#Question-Answering)\n",
    "1. [Regular Retriever Chain](#Regular-Retriever-Chain)\n",
    "1. [Parent Document Retriever Chain](#Parent-Document-Retriever-Chain)\n",
    "1. [Contextual Compression Chain](#Contextual-Compression-Chain)\n",
    "1. [Conclusion](#Conclusion)\n",
    "1. [Clean Up Resources](#Clean-Up-Resources)"
   ]
  },
  {
   "cell_type": "markdown",
   "id": "6b7bb282-2718-4911-a92b-4ef084441239",
   "metadata": {},
   "source": [
    "## Requirements\n",
    "---"
   ]
  },
  {
   "cell_type": "markdown",
   "id": "d709d071-695d-4102-a8cd-6fba6c4678a3",
   "metadata": {},
   "source": [
    "1. Create an Amazon SageMaker Notebook Instance - [Amazon SageMaker](https://docs.aws.amazon.com/sagemaker/latest/dg/gs-setup-working-env.html)\n",
    "    - For Notebook Instance type, choose ml.t3.medium.\n",
    "2. For Select Kernel, choose [conda_python3](https://docs.aws.amazon.com/sagemaker/latest/dg/ex1-prepare.html).\n",
    "3. Install the required packages."
   ]
  },
  {
   "cell_type": "markdown",
   "id": "2f07d152-2889-4004-8eba-a0d9028708db",
   "metadata": {},
   "source": [
    "<div class=\"alert alert-block alert-info\"> \n",
    "\n",
    "<b>NOTE:\n",
    "\n",
    "- </b> For <a href=\"https://aws.amazon.com/sagemaker/studio/\" target=\"_blank\">Amazon SageMaker Studio</a>, select Kernel \"<span style=\"color:green;\">Python 3 (ipykernel)</span>\".\n",
    "\n",
    "- For <a href=\"https://docs.aws.amazon.com/sagemaker/latest/dg/studio.html\" target=\"_blank\">Amazon SageMaker Studio Classic</a>, select Image \"<span style=\"color:green;\">Base Python 3.0</span>\" and Kernel \"<span style=\"color:green;\">Python 3</span>\".\n",
    "\n",
    "</div>"
   ]
  },
  {
   "cell_type": "markdown",
   "id": "7c22cf2e-971a-4df9-9e27-1cd7a05d8307",
   "metadata": {},
   "source": [
    "To run this notebook you would need to install the following dependencies:"
   ]
  },
  {
   "cell_type": "code",
   "execution_count": 1,
   "id": "60fde7eb-a354-4934-9126-b793080328c1",
   "metadata": {
    "tags": []
   },
   "outputs": [
    {
     "name": "stdout",
     "output_type": "stream",
     "text": [
      "Overwriting requirements.txt\n"
     ]
    }
   ],
   "source": [
    "%%writefile requirements.txt\n",
    "langchain==0.1.14\n",
    "pypdf==4.1.0\n",
    "faiss-cpu==1.8.0\n",
    "boto3==1.34.58\n",
    "sqlalchemy==2.0.29"
   ]
  },
  {
   "cell_type": "code",
   "execution_count": 2,
   "id": "c54cfea5-782f-49c1-8885-c8fc8955e09e",
   "metadata": {
    "tags": []
   },
   "outputs": [],
   "source": [
    "!pip install -U -r requirements.txt --quiet"
   ]
  },
  {
   "cell_type": "markdown",
   "id": "ecc2e835",
   "metadata": {},
   "source": [
    "<div class=\"alert alert-block alert-warning\"> \n",
    "\n",
    "<b>NOTE:</b>\n",
    "\n",
    "Before proceeding, please verify that you have the correct version of the SQLAlchemy library installed. This notebook requires SQLAlchemy >= 2.0.0.\n",
    "\n",
    "To check your installed SQLAlchemy version, you can run the following code:\n",
    "\n",
    "```python\n",
    "import sqlalchemy\n",
    "print(sqlalchemy.__version__)\n",
    "```\n",
    "\n",
    "If the version displayed is less than 2.0.0, and you have already installed the correct version using `pip`, you may need to \"<span style=\"color:green;\">restart</span>\" or \"<span style=\"color:green;\">shutdown</span>\" the Jupyter Notebook kernel to load the updated library.\n",
    "\n",
    "To restart the kernel, go to the \"Kernel\" menu and select \"Restart Kernel\". If that doesn't work, try shutting down the notebook completely and relaunching it.\n",
    "\n",
    "Restarting or shutting down the kernel will resolve any dependency issues and ensure that the correct SQLAlchemy version is loaded.\n",
    "\n",
    "If you haven't installed SQLAlchemy >= 2.0.0 yet, you can do so by running the following command in your terminal or command prompt:\n",
    "\n",
    "```\n",
    "pip install sqlalchemy>=2.0.29\n",
    "```\n",
    "\n",
    "Once the installation is complete, restart or shutdown the Jupyter Notebook kernel as described above.\n",
    "\n",
    "</div>"
   ]
  },
  {
   "cell_type": "code",
   "execution_count": 3,
   "id": "fd4370c7-8453-478b-aefd-9c861bf7f472",
   "metadata": {},
   "outputs": [
    {
     "name": "stdout",
     "output_type": "stream",
     "text": [
      "2.0.29\n"
     ]
    }
   ],
   "source": [
    "import sqlalchemy\n",
    "print(sqlalchemy.__version__)"
   ]
  },
  {
   "cell_type": "code",
   "execution_count": 4,
   "id": "1f89ca85",
   "metadata": {},
   "outputs": [
    {
     "name": "stdout",
     "output_type": "stream",
     "text": [
      "0.1.14\n"
     ]
    }
   ],
   "source": [
    "import langchain\n",
    "print(langchain.__version__)"
   ]
  },
  {
   "cell_type": "code",
   "execution_count": 5,
   "id": "1c4bf9f6-1127-4444-b684-f0c933c6158a",
   "metadata": {
    "tags": []
   },
   "outputs": [
    {
     "name": "stdout",
     "output_type": "stream",
     "text": [
      "sagemaker.config INFO - Not applying SDK defaults from location: /etc/xdg/sagemaker/config.yaml\n",
      "sagemaker.config INFO - Not applying SDK defaults from location: /home/sagemaker-user/.config/sagemaker/config.yaml\n"
     ]
    }
   ],
   "source": [
    "try:\n",
    "    import sagemaker\n",
    "except ImportError:\n",
    "    !pip install sagemaker --quiet"
   ]
  },
  {
   "cell_type": "markdown",
   "id": "cfd8c041-8d3c-4265-bb9b-e4d0dd0bb151",
   "metadata": {},
   "source": [
    "## 01. Setup LangChain\n",
    "---"
   ]
  },
  {
   "cell_type": "code",
   "execution_count": 9,
   "id": "7d651863-47c8-46f9-8a13-29419c691853",
   "metadata": {},
   "outputs": [
    {
     "name": "stdout",
     "output_type": "stream",
     "text": [
      "us-west-2\n"
     ]
    }
   ],
   "source": [
    "import boto3\n",
    "import pprint\n",
    "from botocore.client import Config\n",
    "import json\n",
    "\n",
    "pp = pprint.PrettyPrinter(indent=2)\n",
    "session = boto3.session.Session()\n",
    "region = session.region_name\n",
    "bedrock_config = Config(connect_timeout=120, read_timeout=120, retries={'max_attempts': 0})\n",
    "bedrock_client = boto3.client('bedrock-runtime', region_name = region)\n",
    "bedrock_agent_client = boto3.client(\"bedrock-agent-runtime\",\n",
    "                              config=bedrock_config, region_name = region)\n",
    "print(region)"
   ]
  },
  {
   "cell_type": "code",
   "execution_count": 10,
   "id": "7f757369-4769-442a-87ba-db9bf75a4dfd",
   "metadata": {
    "tags": []
   },
   "outputs": [],
   "source": [
    "import json\n",
    "import sagemaker\n",
    "\n",
    "from langchain_core.prompts import PromptTemplate\n",
    "from langchain_community.llms import Bedrock\n",
    "from langchain_community.embeddings import BedrockEmbeddings"
   ]
  },
  {
   "cell_type": "markdown",
   "id": "f5476939-6f13-4ba0-9bc9-b43a92592282",
   "metadata": {},
   "source": [
    "Instantiate the LLM with Bedrock and LangChain"
   ]
  },
  {
   "cell_type": "code",
   "execution_count": 11,
   "id": "be4d1e7b-3d76-4e5c-914a-3cbfbea09202",
   "metadata": {},
   "outputs": [
    {
     "name": "stderr",
     "output_type": "stream",
     "text": [
      "/opt/conda/lib/python3.10/site-packages/langchain_core/_api/deprecation.py:119: LangChainDeprecationWarning: The class `Bedrock` was deprecated in LangChain 0.0.34 and will be removed in 0.3. An updated version of the class exists in the langchain-aws package and should be used instead. To use it run `pip install -U langchain-aws` and import as `from langchain_aws import BedrockLLM`.\n",
      "  warn_deprecated(\n"
     ]
    }
   ],
   "source": [
    "model_kwargs_llama = {\n",
    "    \"temperature\": 0,\n",
    "    \"top_p\": 0.9,\n",
    "    \"max_gen_len\": 2048\n",
    "}\n",
    "\n",
    "llm = Bedrock(model_id=\"meta.llama3-8b-instruct-v1:0\",\n",
    "              model_kwargs=model_kwargs_llama,\n",
    "              client = bedrock_client,)"
   ]
  },
  {
   "cell_type": "markdown",
   "id": "54c4749e-e437-4212-b69d-6c800aa0e21c",
   "metadata": {},
   "source": [
    "Instantiate the embedding model with Bedrock and LangChain"
   ]
  },
  {
   "cell_type": "code",
   "execution_count": 12,
   "id": "4deb6246-0cde-4af7-951b-989f338b19b7",
   "metadata": {},
   "outputs": [],
   "source": [
    "embeddings_doc = BedrockEmbeddings(model_id='amazon.titan-embed-text-v2:0',                               \n",
    "              client = bedrock_client)"
   ]
  },
  {
   "cell_type": "markdown",
   "id": "c88793e5-c562-48ce-858b-50c918ac5249",
   "metadata": {},
   "source": [
    "## Data Preparation\n",
    "---"
   ]
  },
  {
   "cell_type": "markdown",
   "id": "433e0dc2-718f-47af-aa60-30fa9a60cae3",
   "metadata": {
    "tags": []
   },
   "source": [
    "Let's first download some of the files to build our document store.\n",
    "\n",
    "In this example, you will use several years of Amazon's Letter to Shareholders as a text corpus to perform Q&A on."
   ]
  },
  {
   "cell_type": "code",
   "execution_count": 13,
   "id": "c8b0cbc6-367a-443a-9e59-c63640a1e4c4",
   "metadata": {
    "tags": []
   },
   "outputs": [],
   "source": [
    "!mkdir -p ./data\n",
    "\n",
    "from urllib.request import urlretrieve\n",
    "urls = [\n",
    "    'https://d18rn0p25nwr6d.cloudfront.net/CIK-0001018724/c7c14359-36fa-40c3-b3ca-5bf7f3fa0b96.pdf',\n",
    "    'https://d18rn0p25nwr6d.cloudfront.net/CIK-0001018724/d2fde7ee-05f7-419d-9ce8-186de4c96e25.pdf',\n",
    "    'https://d18rn0p25nwr6d.cloudfront.net/CIK-0001018724/f965e5c3-fded-45d3-bbdb-f750f156dcc9.pdf',\n",
    "    'https://d18rn0p25nwr6d.cloudfront.net/CIK-0001018724/336d8745-ea82-40a5-9acc-1a89df23d0f3.pdf'\n",
    "]\n",
    "\n",
    "filenames = [\n",
    "    'AMZN-2024-10-K-Annual-Report.pdf',\n",
    "    'AMZN-2023-10-K-Annual-Report.pdf',\n",
    "    'AMZN-2022-10-K-Annual-Report.pdf',\n",
    "    'AMZN-2021-10-K-Annual-Report.pdf'\n",
    "]\n",
    "\n",
    "metadata = [\n",
    "    dict(year=2024, source=filenames[0]),\n",
    "    dict(year=2023, source=filenames[1]),\n",
    "    dict(year=2022, source=filenames[2]),\n",
    "    dict(year=2021, source=filenames[3])]\n",
    "\n",
    "data_root = \"./data/\"\n",
    "\n",
    "for idx, url in enumerate(urls):\n",
    "    file_path = data_root + filenames[idx]\n",
    "    urlretrieve(url, file_path)"
   ]
  },
  {
   "cell_type": "markdown",
   "id": "859253bf-4bb0-43bf-999a-e1abb1f6983b",
   "metadata": {},
   "source": [
    "If you take a look into the Amazon 10-Ks, the first 4 pages are all the very similar and may skew the responses if you they are kept in the embeddings. This will cause repetition, take longer to generate embeddings, and may skew your results. In the next section you will take the downloaded data, trim the 10-K (first 4 pages) and overwrite them as processed files."
   ]
  },
  {
   "cell_type": "code",
   "execution_count": 14,
   "id": "1ac21b76-14b4-4c64-8cfe-408d877426c4",
   "metadata": {
    "tags": []
   },
   "outputs": [],
   "source": [
    "from pypdf import PdfReader, PdfWriter\n",
    "import glob\n",
    "\n",
    "local_pdfs = glob.glob(data_root + '*.pdf')\n",
    "\n",
    "# Iterate over each PDF file\n",
    "for idx, local_pdf in enumerate(local_pdfs):\n",
    "    pdf_reader = PdfReader(local_pdf)\n",
    "    pdf_writer = PdfWriter()\n",
    "    \n",
    "    if idx == 0:\n",
    "        # Keep the first 4 pages for the first document\n",
    "        for pagenum in range(len(pdf_reader.pages)):\n",
    "            page = pdf_reader.pages[pagenum]\n",
    "            pdf_writer.add_page(page)\n",
    "    else:\n",
    "        # Remove the first 4 pages for other documents\n",
    "        for pagenum in range(4, len(pdf_reader.pages)):\n",
    "            page = pdf_reader.pages[pagenum]\n",
    "            pdf_writer.add_page(page)\n",
    "\n",
    "    # Write the modified content to a new file\n",
    "    with open(local_pdf, 'wb') as new_file:\n",
    "        new_file.seek(0)\n",
    "        pdf_writer.write(new_file)\n",
    "        new_file.truncate()"
   ]
  },
  {
   "cell_type": "markdown",
   "id": "687fa7ac-6605-4842-87f8-7cc844e01c12",
   "metadata": {},
   "source": [
    "After downloading we can load the documents with the help of [DirectoryLoader from PyPDF available under LangChain](https://python.langchain.com/en/latest/reference/modules/document_loaders.html) and splitting them into smaller chunks."
   ]
  },
  {
   "cell_type": "markdown",
   "id": "80600818-b41c-45b2-b86b-2e4c69271ed6",
   "metadata": {},
   "source": [
    "Note: The retrieved document/text should be large enough to contain enough information to answer a question; but small enough to fit into the LLM prompt. Also the embeddings model has a limit of the length of input tokens limited to 512 tokens, which roughly translates to ~2000 characters. For the sake of this use-case we are creating chunks of roughly 1000 characters with an overlap of 100 characters using [RecursiveCharacterTextSplitter](https://python.langchain.com/en/latest/modules/indexes/text_splitters/examples/recursive_text_splitter.html)."
   ]
  },
  {
   "cell_type": "code",
   "execution_count": 15,
   "id": "f13cbcc0-908c-4fa3-adab-f9eae209cf92",
   "metadata": {
    "tags": []
   },
   "outputs": [
    {
     "name": "stdout",
     "output_type": "stream",
     "text": [
      "page_content='Table of Contents\\nItem 7. Management’s Discussion and Analysis of Financial Condition and Results of Operations\\nForward-Looking Statements\\nThis Annual Report on Form 10-K includes forward-looking statements within the meaning of the Private Securities Litigation Reform Act of 1995. All\\nstatements other than statements of historical fact, including statements regarding guidance, industry prospects, or future results of operations or financial\\nposition, made in this Annual Report on Form 10-K are forward-looking. We use words such as anticipates, believes, expects, future, intends, and similar\\nexpressions to identify forward-looking statements. Forward-looking statements reflect management’s current expectations and are inherently uncertain. Actual\\nresults and outcomes could differ materially for a variety of reasons, including, among others, fluctuations in foreign exchange rates, changes in global' metadata={'year': 2024, 'source': 'AMZN-2024-10-K-Annual-Report.pdf'}\n"
     ]
    }
   ],
   "source": [
    "import numpy as np\n",
    "from langchain_community.document_loaders import PyPDFLoader\n",
    "from langchain.text_splitter import RecursiveCharacterTextSplitter\n",
    "\n",
    "documents = []\n",
    "\n",
    "for idx, file in enumerate(filenames):\n",
    "    loader = PyPDFLoader(data_root + file)\n",
    "    document = loader.load()\n",
    "    for document_fragment in document:\n",
    "        document_fragment.metadata = metadata[idx]\n",
    "\n",
    "    documents += document\n",
    "\n",
    "# - in our testing Character split works better with this PDF data set\n",
    "text_splitter = RecursiveCharacterTextSplitter(\n",
    "    # Set a really small chunk size, just to show.\n",
    "    chunk_size=1000,\n",
    "    chunk_overlap=100,\n",
    ")\n",
    "\n",
    "docs = text_splitter.split_documents(documents)\n",
    "print(docs[100])"
   ]
  },
  {
   "cell_type": "markdown",
   "id": "0e27bc3e-9d2b-47cc-9764-9c8b16200b06",
   "metadata": {},
   "source": [
    "Before we are proceeding we are looking into some interesting statistics regarding the document preprocessing we just performed:"
   ]
  },
  {
   "cell_type": "code",
   "execution_count": 16,
   "id": "a1d6183e-9ceb-429c-8042-935d56acf4d3",
   "metadata": {
    "tags": []
   },
   "outputs": [
    {
     "name": "stdout",
     "output_type": "stream",
     "text": [
      "Average length among 437 documents loaded is 3348 characters.\n",
      "After the split we have 1801 documents as opposed to the original 437.\n",
      "Average length among 1801 documents (after split) is 823 characters.\n"
     ]
    }
   ],
   "source": [
    "avg_doc_length = lambda documents: sum([len(doc.page_content) for doc in documents])//len(documents)\n",
    "\n",
    "print(f'Average length among {len(documents)} documents loaded is {avg_doc_length(documents)} characters.')\n",
    "print(f'After the split we have {len(docs)} documents as opposed to the original {len(documents)}.')\n",
    "print(f'Average length among {len(docs)} documents (after split) is {avg_doc_length(docs)} characters.')"
   ]
  },
  {
   "cell_type": "markdown",
   "id": "7d55e72f-6162-4aa5-9aa9-0bbb29b026ea",
   "metadata": {},
   "source": [
    "We had 4 PDF documents which have been split into smaller ~500 chunks."
   ]
  },
  {
   "cell_type": "markdown",
   "id": "66b550cd-1f0f-445b-9c3b-dbd7abf5294f",
   "metadata": {},
   "source": [
    "Now we can see how a sample embedding would look like for one of those chunks."
   ]
  },
  {
   "cell_type": "code",
   "execution_count": 17,
   "id": "f67cd64a-ba7a-419e-953a-307704772f57",
   "metadata": {
    "tags": []
   },
   "outputs": [
    {
     "name": "stdout",
     "output_type": "stream",
     "text": [
      "Sample embedding of a document chunk:  [-0.09360763  0.00087276  0.02369082 ... -0.01300106 -0.01781627\n",
      "  0.02850603]\n",
      "Size of the embedding:  (1024,)\n"
     ]
    }
   ],
   "source": [
    "sample_embedding = np.array(embeddings_doc.embed_query(docs[0].page_content))\n",
    "print(\"Sample embedding of a document chunk: \", sample_embedding)\n",
    "print(\"Size of the embedding: \", sample_embedding.shape)"
   ]
  },
  {
   "cell_type": "markdown",
   "id": "967efb1a-8586-4a74-bbd4-b52d1730693b",
   "metadata": {
    "tags": []
   },
   "source": [
    "This can be easily done using [FAISS](https://github.com/facebookresearch/faiss) implementation inside [LangChain](https://python.langchain.com/en/latest/modules/indexes/vectorstores/examples/faiss.html) which takes  input the embeddings model and the documents to create the entire vector store. Using the Index Wrapper we can abstract away most of the heavy lifting such as creating the prompt, getting embeddings of the query, sampling the relevant documents and calling the LLM. [VectorStoreIndexWrapper](https://python.langchain.com/en/latest/modules/indexes/getting_started.html#one-line-index-creation) helps us with that."
   ]
  },
  {
   "cell_type": "code",
   "execution_count": 18,
   "id": "0993d824-e269-4e0c-80f0-1b3bde27302d",
   "metadata": {},
   "outputs": [
    {
     "name": "stdout",
     "output_type": "stream",
     "text": [
      "CPU times: user 4.54 s, sys: 372 ms, total: 4.91 s\n",
      "Wall time: 2min 22s\n"
     ]
    }
   ],
   "source": [
    "%%time\n",
    "from langchain_community.vectorstores import FAISS\n",
    "from langchain.indexes.vectorstore import VectorStoreIndexWrapper\n",
    "\n",
    "vectorstore_faiss = FAISS.from_documents(\n",
    "    docs,\n",
    "    embeddings_doc,\n",
    ")\n",
    "wrapper_store_faiss = VectorStoreIndexWrapper(vectorstore=vectorstore_faiss)"
   ]
  },
  {
   "cell_type": "markdown",
   "id": "c95675c9-7116-4bd3-ba63-30963750e36f",
   "metadata": {},
   "source": [
    "## Question Answering with LangChain Vector Store Wrapper\n",
    "---"
   ]
  },
  {
   "cell_type": "markdown",
   "id": "e2d335bb-63bf-4870-8e6e-019a1b7c005d",
   "metadata": {
    "tags": []
   },
   "source": [
    "We use the wrapper provided by LangChain which wraps around the Vector Store and takes input the LLM. This wrapper performs the following steps behind the scences:\n",
    "\n",
    "- Takes input the question\n",
    "- Create question embedding\n",
    "- Fetch relevant documents\n",
    "- Stuff the documents and the question into a prompt\n",
    "- Invoke the model with the prompt and generate the answer in a human readable manner."
   ]
  },
  {
   "cell_type": "markdown",
   "id": "4cf2ff92-84dd-4ad7-856c-643e342cf5cd",
   "metadata": {},
   "source": [
    "*Note: In this example we are using `Llama 3 8B Instruct` as the LLM under Amazon SageMaker, this particular model performs best if the inputs are provided under `<|begin_of_text|><|start_header_id|>system<|end_header_id|>`, `{{system_message}}`, `<|eot_id|><|start_header_id|>user<|end_header_id|>`, `{{user_message}}`, and the model is requested to generate an output after `<|eot_id|><|start_header_id|>assistant<|end_header_id|>`. In the cell below you see an example of how to control the prompt such that the LLM stays grounded and doesn't answer outside the context.*"
   ]
  },
  {
   "cell_type": "code",
   "execution_count": 19,
   "id": "d71d5188-4caa-414c-a76e-33ae8cec19ad",
   "metadata": {},
   "outputs": [],
   "source": [
    "prompt_template = \"\"\"<|begin_of_text|><|start_header_id|>system<|end_header_id|>\n",
    "You are a helpful assistant.\n",
    "<|eot_id|><|start_header_id|>user<|end_header_id|>\n",
    "{query}\n",
    "<|eot_id|><|start_header_id|>assistant<|end_header_id|>\n",
    "\"\"\"\n",
    "PROMPT = PromptTemplate(\n",
    "    template=prompt_template, input_variables=[\"query\"]\n",
    ")"
   ]
  },
  {
   "cell_type": "code",
   "execution_count": 20,
   "id": "aa490dbc-9abe-4bb6-a26c-26f6d10591ad",
   "metadata": {},
   "outputs": [],
   "source": [
    "query = \"How did AWS perform in 2021?\""
   ]
  },
  {
   "cell_type": "code",
   "execution_count": 21,
   "id": "37091fb6-02e7-4601-8210-83129076a87d",
   "metadata": {},
   "outputs": [
    {
     "name": "stdout",
     "output_type": "stream",
     "text": [
      " According to the provided context, AWS operating income increased in absolute dollars in 2021, compared to the prior year, primarily due to increased customer usage and cost structure productivity, partially offset by increased spending on technology infrastructure and payroll and related expenses, all of which were primarily driven by additional investments to support the business growth, and reduced prices for our customers. AWS sales increased 37% in 2021, compared to the prior year. The sales growth primarily reflects increased customer usage, partially offset by pricing changes. Pricing changes were driven largely by our continued efforts to reduce prices for our customers.\n"
     ]
    }
   ],
   "source": [
    "answer = wrapper_store_faiss.query(question=PROMPT.format(query=query), llm=llm)\n",
    "print(answer)"
   ]
  },
  {
   "cell_type": "markdown",
   "id": "964bc809-6c6b-4989-8835-1cc7fcc731f7",
   "metadata": {},
   "source": [
    "We can ask another question."
   ]
  },
  {
   "cell_type": "code",
   "execution_count": 22,
   "id": "d94688dd-2ef4-462e-9186-1a828b02e558",
   "metadata": {},
   "outputs": [],
   "source": [
    "query_2 = \"How much square footage did Amazon have in North America in 2023?\""
   ]
  },
  {
   "cell_type": "code",
   "execution_count": 23,
   "id": "ac316dbb-94c8-4bb6-872a-6c027df8f9d2",
   "metadata": {},
   "outputs": [
    {
     "name": "stdout",
     "output_type": "stream",
     "text": [
      " According to the provided context, as of December 31, 2023, Amazon operated the following facilities in North America:\n",
      "\n",
      "* Leased Square Footage: 424,145\n",
      "* Owned Square Footage: 15,438\n",
      "\n",
      "Total Square Footage in North America: 424,145 + 15,438 = 439,583\n"
     ]
    }
   ],
   "source": [
    "answer = wrapper_store_faiss.query(question=PROMPT.format(query=query_2), llm=llm)\n",
    "print(answer)"
   ]
  },
  {
   "cell_type": "markdown",
   "id": "4187b411-b7ce-48e7-bda4-d8d2abcefc53",
   "metadata": {},
   "source": [
    "## Regular Retriever Chain\n",
    "---\n",
    "In the above scenario you explored the quick and easy way to get a context-aware answer to your question. Now let's have a look at a more customizable option with the help of [RetrievalQA](https://docs.smith.langchain.com/cookbook/hub-examples/retrieval-qa-chain) where you can customize how the documents fetched should be added to prompt using `chain_type` parameter. Also, if you want to control how many relevant documents should be retrieved then change the `k` parameter in the cell below to see different outputs. In many scenarios you might want to know which were the source documents that the LLM used to generate the answer, you can get those documents in the output using `return_source_documents` which returns the documents that are added to the context of the LLM prompt. `RetrievalQA` also allows you to provide a custom [prompt template](https://python.langchain.com/docs/modules/model_io/prompts/quick_start/) which can be specific to the model.\n",
    "Should add or point to info about the chain_type parameter"
   ]
  },
  {
   "cell_type": "code",
   "execution_count": 24,
   "id": "786b9a12-3407-47ce-8457-437059d84788",
   "metadata": {},
   "outputs": [
    {
     "name": "stdout",
     "output_type": "stream",
     "text": [
      "CPU times: user 461 µs, sys: 9 µs, total: 470 µs\n",
      "Wall time: 515 µs\n"
     ]
    }
   ],
   "source": [
    "%%time\n",
    "from langchain.chains import RetrievalQA\n",
    "\n",
    "prompt_template = \"\"\"\n",
    "<|begin_of_text|><|start_header_id|>system<|end_header_id|>\n",
    "\n",
    "This is a conversation between an AI assistant and a Human.\n",
    "\n",
    "<|eot_id|><|start_header_id|>user<|end_header_id|>\n",
    "\n",
    "Use the following pieces of context to provide a concise answer to the question at the end. If you don't know the answer, just say that you don't know, don't try to make up an answer.\n",
    "#### Context ####\n",
    "{context}\n",
    "#### End of Context ####\n",
    "\n",
    "Question: {question}\n",
    "<|eot_id|><|start_header_id|>assistant<|end_header_id|>\n",
    "\"\"\"\n",
    "PROMPT = PromptTemplate(\n",
    "    template=prompt_template, input_variables=[\"context\", \"question\"]\n",
    ")\n",
    "\n",
    "qa = RetrievalQA.from_chain_type(\n",
    "    llm=llm,\n",
    "    chain_type=\"stuff\",\n",
    "    retriever=vectorstore_faiss.as_retriever(\n",
    "        search_type=\"similarity\", search_kwargs={\"k\": 3}\n",
    "    ),\n",
    "    return_source_documents=True,\n",
    "    chain_type_kwargs={\"prompt\": PROMPT}\n",
    ")"
   ]
  },
  {
   "cell_type": "markdown",
   "id": "70ff4d62-82a5-4f07-9ed4-828b468b6356",
   "metadata": {},
   "source": [
    "Let's start asking questions:"
   ]
  },
  {
   "cell_type": "code",
   "execution_count": 25,
   "id": "a304e6ab-a8ed-4d85-be9b-35ed60721a0b",
   "metadata": {},
   "outputs": [
    {
     "name": "stderr",
     "output_type": "stream",
     "text": [
      "/opt/conda/lib/python3.10/site-packages/langchain_core/_api/deprecation.py:119: LangChainDeprecationWarning: The method `Chain.__call__` was deprecated in langchain 0.1.0 and will be removed in 0.2.0. Use invoke instead.\n",
      "  warn_deprecated(\n"
     ]
    },
    {
     "name": "stdout",
     "output_type": "stream",
     "text": [
      "According to the provided context, AWS operating income was $24.631 million in 2023, which is an increase from $22.841 million in 2022.\n",
      "\n",
      "[Document(page_content='Table of Contents\\nAWS sales increased 13% in 2023, compared to the prior year. The sales growth primarily reflects increased customer usage, partially offset by pricing\\nchanges, primarily driven by long-term customer contracts.\\nOperating Income (Loss)\\nOperating income (loss) by segment is as follows (in millions):\\nYear Ended December 31,\\n2022 2023\\nOperating Income (Loss)\\nNorth America $ (2,847)$ 14,877 \\nInternational (7,746) (2,656)\\nAWS 22,841 24,631 \\nConsolidated $ 12,248 $ 36,852 \\nOperating income was $12.2 billion and $36.9 billion for 2022 and 2023. We believe that operating income is a more meaningful measure than gross\\nprofit and gross margin due to the diversity of our product categories and services.\\nThe North America operating income in 2023, as compared to the operating loss in the prior year, is primarily due to increased unit sales and increased\\nadvertising sales, partially offset by increased shipping and fulfillment costs and increased technology and infrastructure costs.', metadata={'year': 2024, 'source': 'AMZN-2024-10-K-Annual-Report.pdf'}), Document(page_content='(including export sales from these online stores to customers in the U.S., Mexico, and Canada), but excludes export sales from our North America-focused\\nonline stores.\\nAWS\\nThe AWS segment consists of amounts earned from global sales of compute, storage, database, and other services for start-ups, enterprises, government\\nagencies, and academic institutions.\\nInformation on reportable segments and reconciliation to consolidated net income (loss) is as follows (in millions):\\n  Year Ended December 31,\\n 2021 2022 2023\\nNorth America\\nNet sales $ 279,833 $ 315,880 $ 352,828 \\nOperating expenses 272,562 318,727 337,951 \\nOperating income (loss) $ 7,271 $ (2,847)$ 14,877 \\nInternational\\nNet sales $ 127,787 $ 118,007 $ 131,200 \\nOperating expenses 128,711 125,753 133,856 \\nOperating loss $ (924)$ (7,746)$ (2,656)\\nAWS\\nNet sales $ 62,202 $ 80,096 $ 90,757 \\nOperating expenses 43,670 57,255 66,126 \\nOperating income $ 18,532 $ 22,841 $ 24,631 \\nConsolidated\\nNet sales $ 469,822 $ 513,983 $ 574,785', metadata={'year': 2024, 'source': 'AMZN-2024-10-K-Annual-Report.pdf'}), Document(page_content='million and $435 million for 2020 and 2021.The increase in AWS operating \\nincome in absolute dollars in 2021, compared to the prior year, is primarily due to increased customer usage and cost structureproductivity, partial\\nly offset by increased spending on technology infrastructure and payroll and related expenses, all of which were primarily driven by additionalinvestments to support the busin\\ness growth, and reduced prices for our customers. Changes in foreign exchange rates impacted operating income by $30 million and$(372) million for 2020 and 2021.\\n24', metadata={'year': 2022, 'source': 'AMZN-2022-10-K-Annual-Report.pdf'})]\n"
     ]
    }
   ],
   "source": [
    "query = \"How did AWS perform in 2023?\"\n",
    "result = qa({\"query\": query})\n",
    "print(result['result'])\n",
    "\n",
    "print(f\"\\n{result['source_documents']}\")"
   ]
  },
  {
   "cell_type": "code",
   "execution_count": 26,
   "id": "ba165d2c-8ee5-40e7-91b5-94be5bdc9fde",
   "metadata": {},
   "outputs": [
    {
     "name": "stdout",
     "output_type": "stream",
     "text": [
      "Based on the provided context, some of the risk factors associated with Amazon include:\n",
      "\n",
      "1. Competition\n",
      "2. Management of growth\n",
      "3. Potential fluctuations in operating results\n",
      "4. International growth and expansion\n",
      "5. Outcomes of claims, litigation, government investigations, and other proceedings\n",
      "6. Fulfillment, sortation, delivery, and data center optimization\n",
      "7. Risks of inventory management\n",
      "8. Variability in demand\n",
      "9. Degree to which they enter into, maintain, and develop commercial agreements\n",
      "10. Payments risks\n",
      "11. Risks of fulfillment throughput and productivity\n",
      "12. Global economic climate and additional or unforeseen economic conditions\n",
      "13. Customer demand and spending\n",
      "14. Inflation\n",
      "15. Interest rates\n",
      "16. Regional labor market and global supply chain constraints\n",
      "17. World events\n",
      "18. Rate of growth of the Internet, online commerce, and cloud services\n",
      "19. Amount and timing of investments in new business opportunities\n",
      "20. Mix of products and services sold to customers\n",
      "21. Mix of net sales derived from products as compared with services\n",
      "22. Extent to which they owe income or other taxes\n",
      "\n",
      "Please note that this is not an exhaustive list, as the provided context mentions \"additional or unforeseen effects\" and \"other proceedings\".\n",
      "\n",
      "[Document(page_content='f growth of the Internet, online commerce, and cloud services, the amount that Amazon.com invests in new businessopportunities and the timing of those \\ninvestments, the mix of products and services sold to customers, the mix of net sales derived from products as compared withservices, the extent \\nto which we owe income or other taxes, competition, management of growth, potential fluctuations in operating results, international growthand expansion, the outcomes of claims, li\\ntigation, government investigations, and other proceedings, fulfillment, sortation, delivery, and data center optimization,risks of inventory management, variabi\\nlity in demand, the degree to which we enter into, maintain, and develop commercial agreements, proposed and completedacquisitions and strategic transac\\ntions, payments risks, and risks of fulfillment throughput and productivity. In addition, the global economic climate andadditional or unforeseen effe', metadata={'year': 2021, 'source': 'AMZN-2021-10-K-Annual-Report.pdf'}), Document(page_content='chain constraints, world events, the rate of growth of the Internet, online commerce, and cloud services, the amount thatAmazon.com invests in new business opportunities and th\\ne timing of those investments, the mix of products and services sold to customers, the mix of net sales derivedfrom products as compared with services, the e\\nxtent to which we owe income or other taxes, competition, management of growth, potential fluctuations in operatingresults, international growth and expansion, \\nthe outcomes of claims, litigation, government investigations, and other proceedings, fulfillment, sortation, delivery, anddata center optimization, risks of \\ninventory management, variability in demand, the degree to which we enter into, maintain, and develop commercial agreements,proposed and completed acquisitions and strat\\negic transactions, payments risks, and risks of fulfillment throughput and productivity. In addition, the global economicclimate and additional or unforeseen', metadata={'year': 2022, 'source': 'AMZN-2022-10-K-Annual-Report.pdf'}), Document(page_content='economic conditions and customer demand and spending, inflation, interest rates, regional labor market and global supply chain constraints, world events, the\\nrate of growth of the Internet, online commerce, and cloud services, the amount that Amazon.com invests in new business opportunities and the timing of those\\ninvestments, the mix of products and services sold to customers, the mix of net sales derived from products as compared with services, the extent to which we\\nowe income or other taxes, competition, management of growth, potential fluctuations in operating results, international growth and expansion, the outcomes\\nof claims, litigation, government investigations, and other proceedings, fulfillment, sortation, delivery, and data center optimization, risks of inventory\\nmanagement, variability in demand, the degree to which we enter into, maintain, and develop commercial agreements, proposed and completed acquisitions', metadata={'year': 2023, 'source': 'AMZN-2023-10-K-Annual-Report.pdf'})]\n"
     ]
    }
   ],
   "source": [
    "query = \"What are some of the risk factors associated to Amazon?\"\n",
    "result = qa({\"query\": query})\n",
    "print(result['result'])\n",
    "\n",
    "print(f\"\\n{result['source_documents']}\")"
   ]
  },
  {
   "cell_type": "code",
   "execution_count": 27,
   "id": "c4c4a7f8-6bc5-4ede-bacb-ffcd656e9e74",
   "metadata": {},
   "outputs": [
    {
     "name": "stdout",
     "output_type": "stream",
     "text": [
      "According to the provided context, Amazon was involved in the following lawsuits in 2022:\n",
      "\n",
      "1. Frame-Wilson: Amazon's motions to dismiss were granted in part and denied in part in March 2022.\n",
      "2. De Coster v. Amazon.com, Inc. (W.D. Wash.): Amazon's motions to dismiss were granted in part and denied in part in March 2022.\n",
      "3. DC Attorney General's lawsuit: The DC Superior Court dismissed the lawsuit in its entirety in March 2022, and the dismissal is under appeal as of January 2023.\n",
      "\n",
      "These lawsuits were related to allegations of price fixing, monopolization, and consumer protection claims.\n",
      "\n",
      "[Document(page_content='injunctive and structural relief, an unspecified amount of damages, and costs. Amazon’s motions to dismiss were granted in part and denied in part in Frame-\\nWilson in March 2022 and March 2023, De Coster v. Amazon.com, Inc. (W.D. Wash.) in January 2023, and the California Attorney General’s lawsuit in March\\n2023. All three courts dismissed claims alleging that Amazon’s pricing policies are inherently illegal and denied dismissal of claims alleging that Amazon’s\\npricing policies are an unlawful restraint of trade. In March 2022, the DC Superior Court dismissed the DC Attorney General’s lawsuit in its entirety; the\\ndismissal is under appeal. We dispute the allegations of wrongdoing and intend to defend ourselves vigorously in these matters.\\nIn October 2020, Broadband iTV, Inc. filed a complaint against Amazon.com, Inc., Amazon.com Services LLC, and Amazon Web Services, Inc. in the', metadata={'year': 2024, 'source': 'AMZN-2024-10-K-Annual-Report.pdf'}), Document(page_content='the U.S. and Canada alleging, among other things, price fixing arrangements between Amazon.com, Inc. and third-party sellers in Amazon’sstores, monopolization and a\\nttempted monopolization, and consumer protection and unjust enrichment claims. Some of the cases include allegations of several distinctpurported classes, including \\nconsumers who purchased a product through Amazon’s stores and consumers who purchased a product offered by Amazon through anothere-commerce retailer. The complaints \\nseek billions of dollars of alleged actual damages, treble damages, punitive damages, and injunctive relief. Individuals have alsoinitiated arbitr\\nations based on substantially similar allegations. We dispute the allegations of wrongdoing and intend to defend ourselves vigorously in these matters.In November 2020, the European Commission \\nissued a Statement of Objections alleging that Amazon uses data relating to our marketplace sellers in a mannerthat infringes EU competi', metadata={'year': 2022, 'source': 'AMZN-2022-10-K-Annual-Report.pdf'}), Document(page_content='purported classes, including consumers who purchased a product through Amazon’s stores and consumers who purchased a product offered by Amazon\\nthrough another e-commerce retailer. The complaints seek billions of dollars of alleged actual damages, treble damages, punitive damages, injunctive relief,\\ncivil penalties, attorneys’ fees, and costs. In March 2022 and January 2023, Amazon’s motions to dismiss were granted in part and denied in part in Frame-\\nWilson and De Coster v. Amazon.com, Inc. (WD Wash), respectively; both courts dismissed claims alleging that Amazon’s pricing policies are inherently\\nillegal and denied dismissal of claims alleging that Amazon’s pricing policies are an unlawful restraint of trade. In March 2022, the DC Superior Court\\ndismissed the DC Attorney General’s lawsuit in its entirety; the dismissal is under appeal as of January 2023. We dispute the allegations of wrongdoing and\\nintend to defend ourselves vigorously in these matters.', metadata={'year': 2023, 'source': 'AMZN-2023-10-K-Annual-Report.pdf'})]\n"
     ]
    }
   ],
   "source": [
    "query = \"Was Amazon involved in any lawsuits in 2022? What were they?\"\n",
    "result = qa({\"query\": query})\n",
    "print(result['result'])\n",
    "\n",
    "print(f\"\\n{result['source_documents']}\")"
   ]
  },
  {
   "cell_type": "code",
   "execution_count": 28,
   "id": "89ff4635-7987-42a2-aea6-b3d90110c7dd",
   "metadata": {},
   "outputs": [
    {
     "name": "stdout",
     "output_type": "stream",
     "text": [
      "According to the provided financial statements, Amazon's total net sales in 2021 were $469,822 million.\n",
      "\n",
      "[Document(page_content='Table of Contents\\nAMAZON.COM, INC.\\nCONSOLIDATED STATEMENTS OF OPERATIONS\\n(in millions, except per share data)\\n  Year Ended December 31,\\n 2020 2021 2022\\nNet product sales $ 215,915 $ 241,787 $ 242,901 \\nNet service sales 170,149 228,035 271,082 \\nTotal net sales 386,064 469,822 513,983 \\nOperating expenses:\\nCost of sales 233,307 272,344 288,831 \\nFulfillment 58,517 75,111 84,299 \\nTechnology and content 42,740 56,052 73,213 \\nSales and marketing 22,008 32,551 42,238 \\nGeneral and administrative 6,668 8,823 11,891 \\nOther operating expense (income), net (75) 62 1,263 \\nTotal operating expenses 363,165 444,943 501,735 \\nOperating income 22,899 24,879 12,248 \\nInterest income 555 448 989 \\nInterest expense (1,647) (1,809) (2,367)\\nOther income (expense), net 2,371 14,633 (16,806)\\nTotal non-operating income (expense) 1,279 13,272 (18,184)\\nIncome (loss) before income taxes 24,178 38,151 (5,936)\\nBenefit (provision) for income taxes (2,863) (4,791) 3,217', metadata={'year': 2023, 'source': 'AMZN-2023-10-K-Annual-Report.pdf'}), Document(page_content='Table of Contents\\nAMAZON.COM, INC.\\nCONSOLIDATED STATEMENTS OF COMPREHENSIVE INCOME (LOSS)\\n(in millions)\\n  Year Ended December 31,\\n 2020 2021 2022\\nNet income (loss) $ 21,331 $ 33,364 $ (2,722)\\nOther comprehensive income (loss):\\nForeign currency translation adjustments, net of tax of $(36), $47, and $100 561 (819) (2,586)\\nNet change in unrealized gains (losses) on available-for-sale debt securities:\\nUnrealized gains (losses), net of tax of $(83), $72, and $159 273 (343) (823)\\nReclassification adjustment for losses (gains) included in “Other income (expense),\\nnet,” net of tax of $8, $13, and $0 (28) (34) 298 \\nNet unrealized gains (losses) on available-for-sale debt securities 245 (377) (525)\\nTotal other comprehensive income (loss) 806 (1,196) (3,111)\\nComprehensive income (loss) $ 22,137 $ 32,168 $ (5,833)\\nSee accompanying notes to consolidated financial statements.\\n38', metadata={'year': 2023, 'source': 'AMZN-2023-10-K-Annual-Report.pdf'}), Document(page_content='Table of Contents\\nAMAZON.COM, INC.\\nCONSOLIDATED STATEMENTS OF OPERATIONS\\n(in millions, except per share data)\\n  Year Ended December 31,\\n 2021 2022 2023\\nNet product sales $ 241,787 $ 242,901 $ 255,887 \\nNet service sales 228,035 271,082 318,898 \\nTotal net sales 469,822 513,983 574,785 \\nOperating expenses:\\nCost of sales 272,344 288,831 304,739 \\nFulfillment 75,111 84,299 90,619 \\nTechnology and infrastructure 56,052 73,213 85,622 \\nSales and marketing 32,551 42,238 44,370 \\nGeneral and administrative 8,823 11,891 11,816 \\nOther operating expense (income), net 62 1,263 767 \\nTotal operating expenses 444,943 501,735 537,933 \\nOperating income 24,879 12,248 36,852 \\nInterest income 448 989 2,949 \\nInterest expense (1,809) (2,367) (3,182)\\nOther income (expense), net 14,633 (16,806) 938 \\nTotal non-operating income (expense) 13,272 (18,184) 705 \\nIncome (loss) before income taxes 38,151 (5,936) 37,557 \\nBenefit (provision) for income taxes (4,791) 3,217 (7,120)', metadata={'year': 2024, 'source': 'AMZN-2024-10-K-Annual-Report.pdf'})]\n"
     ]
    }
   ],
   "source": [
    "query = \"What was Amazon's revenue in 2021?\"\n",
    "\n",
    "result = qa({\"query\": query})\n",
    "\n",
    "print(result['result'])\n",
    "\n",
    "print(f\"\\n{result['source_documents']}\")"
   ]
  },
  {
   "cell_type": "markdown",
   "id": "64c868c8-cf34-42f6-a06f-443e04a195f4",
   "metadata": {},
   "source": [
    "## Parent Document Retriever Chain\n",
    "---"
   ]
  },
  {
   "cell_type": "markdown",
   "id": "26568540-3442-41dc-ae12-ca8e624d5fff",
   "metadata": {},
   "source": [
    "In this scenario, let's have a look at a more advanced rag option with the help of [ParentDocumentRetriever](https://python.langchain.com/docs/modules/data_connection/retrievers/parent_document_retriever). When working with document retrieval, you may encounter a trade-off between storing small chunks of a document for accurate embeddings and larger documents to preserve more context. The `ParentDocumentRetriever` strikes that balance by splitting and storing small chunks of data. \n",
    "\n",
    "First, a `parent_splitter` is used to divide the original documents into larger chunks called `parent documents.` These parent documents can preserve a reasonable amount of context so the LLM can.\n",
    "\n",
    "Next, a `child_splitter` is applied to create smaller `child documents` from the original documents. These child documents allow the embeddings to reflect more accurately their meaning.\n",
    "\n",
    "The child documents are then indexed in a vectorstore using embeddings. This enables efficient retrieval of relevant child documents based on similarity.\n",
    "\n",
    "To retrieve relevant information, the `ParentDocumentRetriever` first fetches the child documents from the vectorstore. It then looks up the parent IDs for those child documents and returns the corresponding larger parent documents.\n",
    "\n",
    "The `ParentDocumentRetriever` uses an [InMemoryStore](https://api.python.langchain.com/en/v0.1.4/storage/langchain.storage.in_memory.InMemoryBaseStore.html) to store and manage the parent documents. By working with both parent and child documents, this approach aims to balance accurate embeddings with contextual information, providing more meaningful and relevant retrieval results."
   ]
  },
  {
   "cell_type": "code",
   "execution_count": 29,
   "id": "1166d969-e079-4eaa-9479-b69a0ef05b58",
   "metadata": {},
   "outputs": [],
   "source": [
    "from langchain.retrievers import ParentDocumentRetriever\n",
    "from langchain.storage import InMemoryStore"
   ]
  },
  {
   "cell_type": "markdown",
   "id": "5ce7358d-00b3-4778-a981-8decddb5e1ec",
   "metadata": {},
   "source": [
    "Sometimes, the full documents can be too big to want to retrieve them as is. In that case, what we really want to do is to first split the raw documents into larger chunks, and then split it into smaller chunks. We then index the smaller chunks, but on retrieval we retrieve the larger chunks (but still not the full documents)."
   ]
  },
  {
   "cell_type": "code",
   "execution_count": 30,
   "id": "10b5f339-b513-4ba5-b262-82d504dbd92a",
   "metadata": {},
   "outputs": [
    {
     "name": "stdout",
     "output_type": "stream",
     "text": [
      "CPU times: user 19.3 s, sys: 1.32 s, total: 20.6 s\n",
      "Wall time: 10min 2s\n"
     ]
    }
   ],
   "source": [
    "%%time\n",
    "# This text splitter is used to create the parent documents\n",
    "parent_splitter = RecursiveCharacterTextSplitter(chunk_size=2000)\n",
    "\n",
    "# This text splitter is used to create the child documents\n",
    "# It should create documents smaller than the parent\n",
    "child_splitter = RecursiveCharacterTextSplitter(chunk_size=400)\n",
    "\n",
    "# The vectorstore to use to index the child chunks\n",
    "vectorstore_faiss = FAISS.from_documents(\n",
    "    child_splitter.split_documents(documents),\n",
    "    embeddings_doc,\n",
    ")\n",
    "\n",
    "# The storage layer for the parent documents\n",
    "store = InMemoryStore()"
   ]
  },
  {
   "cell_type": "code",
   "execution_count": 31,
   "id": "c3d830d8-5101-4103-8958-f960c2728cfc",
   "metadata": {},
   "outputs": [
    {
     "name": "stdout",
     "output_type": "stream",
     "text": [
      "CPU times: user 111 µs, sys: 0 ns, total: 111 µs\n",
      "Wall time: 115 µs\n"
     ]
    }
   ],
   "source": [
    "%%time\n",
    "# The storage layer for the parent documents\n",
    "store = InMemoryStore()\n",
    "retriever = ParentDocumentRetriever(\n",
    "    vectorstore=vectorstore_faiss,\n",
    "    docstore=store,\n",
    "    child_splitter=child_splitter,\n",
    "    parent_splitter=parent_splitter,\n",
    ")"
   ]
  },
  {
   "cell_type": "code",
   "execution_count": 32,
   "id": "15243983-e5e5-4024-9ecb-6b965827684c",
   "metadata": {
    "tags": []
   },
   "outputs": [],
   "source": [
    "retriever.add_documents(documents, ids=None)"
   ]
  },
  {
   "cell_type": "markdown",
   "id": "7d46bb5a-efb7-47d4-8d0d-3ec1afa95f25",
   "metadata": {},
   "source": [
    "Let’s now call the vector store search functionality - we should see that it returns small chunks (since we’re storing the small chunks)."
   ]
  },
  {
   "cell_type": "code",
   "execution_count": 33,
   "id": "80d7d44f-0669-4d22-9efc-64ee3b0ef247",
   "metadata": {
    "tags": []
   },
   "outputs": [],
   "source": [
    "sub_docs = vectorstore_faiss.similarity_search(\"What was Amazon's revenue in 2021?\")"
   ]
  },
  {
   "cell_type": "code",
   "execution_count": 34,
   "id": "ada7c3d6-7eda-4d1a-8c0b-9889daec7f5d",
   "metadata": {
    "tags": []
   },
   "outputs": [
    {
     "data": {
      "text/plain": [
       "367"
      ]
     },
     "execution_count": 34,
     "metadata": {},
     "output_type": "execute_result"
    }
   ],
   "source": [
    "len(sub_docs[0].page_content)"
   ]
  },
  {
   "cell_type": "code",
   "execution_count": 35,
   "id": "e6d2a1c9-ea18-47a6-ade7-d801c712e700",
   "metadata": {
    "tags": []
   },
   "outputs": [
    {
     "name": "stdout",
     "output_type": "stream",
     "text": [
      "Table of Contents\n",
      "AMAZON.COM, INC.\n",
      "CONSOLIDATED STATEMENTS OF CASH FLOWS\n",
      "(in millions)\n",
      "  Year Ended December 31,\n",
      " 2020 2021 2022\n",
      "CASH, CASH EQUIV ALENTS, AND RESTRICTED CASH, BEGINNING OF PERIOD $ 36,410 $ 42,377 $ 36,477 \n",
      "OPERA TING ACTIVITIES:\n",
      "Net income (loss) 21,331 33,364 (2,722)\n",
      "Adjustments to reconcile net income (loss) to net cash from operating activities:\n"
     ]
    }
   ],
   "source": [
    "print(sub_docs[0].page_content)"
   ]
  },
  {
   "cell_type": "markdown",
   "id": "f98a54e4-0ac6-48b2-afb2-7568a0364ac0",
   "metadata": {},
   "source": [
    "Let’s now retrieve from the overall retriever. This should return large documents - since it returns the documents where the smaller chunks are located."
   ]
  },
  {
   "cell_type": "code",
   "execution_count": 36,
   "id": "54413ac3-0012-4b31-b926-1de798e3572c",
   "metadata": {
    "tags": []
   },
   "outputs": [
    {
     "name": "stderr",
     "output_type": "stream",
     "text": [
      "/opt/conda/lib/python3.10/site-packages/langchain_core/_api/deprecation.py:119: LangChainDeprecationWarning: The method `BaseRetriever.get_relevant_documents` was deprecated in langchain-core 0.1.46 and will be removed in 0.3.0. Use invoke instead.\n",
      "  warn_deprecated(\n"
     ]
    }
   ],
   "source": [
    "retrieved_docs = retriever.get_relevant_documents(\"What was Amazon's revenue in 2021?\")"
   ]
  },
  {
   "cell_type": "code",
   "execution_count": 37,
   "id": "810c388a-494a-4a3f-aed1-a59e3bbccb04",
   "metadata": {
    "tags": []
   },
   "outputs": [
    {
     "data": {
      "text/plain": [
       "1918"
      ]
     },
     "execution_count": 37,
     "metadata": {},
     "output_type": "execute_result"
    }
   ],
   "source": [
    "len(retrieved_docs[0].page_content)"
   ]
  },
  {
   "cell_type": "code",
   "execution_count": 38,
   "id": "fab565fb-0240-4048-818a-da6a6b56b9a9",
   "metadata": {
    "tags": []
   },
   "outputs": [
    {
     "name": "stdout",
     "output_type": "stream",
     "text": [
      "Table of Contents\n",
      "AMAZON.COM, INC.\n",
      "CONSOLIDATED STATEMENTS OF CASH FLOWS\n",
      "(in millions)\n",
      "  Year Ended December 31,\n",
      " 2020 2021 2022\n",
      "CASH, CASH EQUIV ALENTS, AND RESTRICTED CASH, BEGINNING OF PERIOD $ 36,410 $ 42,377 $ 36,477 \n",
      "OPERA TING ACTIVITIES:\n",
      "Net income (loss) 21,331 33,364 (2,722)\n",
      "Adjustments to reconcile net income (loss) to net cash from operating activities:\n",
      "Depreciation and amortization of property and equipment and capitalized content costs, operating lease\n",
      "assets, and other 25,180 34,433 41,921 \n",
      "Stock-based compensation 9,208 12,757 19,621 \n",
      "Other expense (income), net (2,582) (14,306) 16,966 \n",
      "Deferred income taxes (554) (310) (8,148)\n",
      "Changes in operating assets and liabilities:\n",
      "Inventories (2,849) (9,487) (2,592)\n",
      "Accounts receivable, net and other (8,169) (18,163) (21,897)\n",
      "Accounts payable 17,480 3,602 2,945 \n",
      "Accrued expenses and other 5,754 2,123 (1,558)\n",
      "Unearned revenue 1,265 2,314 2,216 \n",
      "Net cash provided by (used in) operating activities 66,064 46,327 46,752 \n",
      "INVESTING ACTIVITIES:\n",
      "Purchases of property and equipment (40,140) (61,053) (63,645)\n",
      "Proceeds from property and equipment sales and incentives 5,096 5,657 5,324 \n",
      "Acquisitions, net of cash acquired, and other (2,325) (1,985) (8,316)\n",
      "Sales and maturities of marketable securities 50,237 59,384 31,601 \n",
      "Purchases of marketable securities (72,479) (60,157) (2,565)\n",
      "Net cash provided by (used in) investing activities (59,61 1) (58,154) (37,601)\n",
      "FINANCING ACTIVITIES:\n",
      "Common stock repurchased — — (6,000)\n",
      "Proceeds from short-term debt, and other 6,796 7,956 41,553 \n",
      "Repayments of short-term debt, and other (6,177) (7,753) (37,554)\n",
      "Proceeds from long-term debt 10,525 19,003 21,166 \n",
      "Repayments of long-term debt (1,553) (1,590) (1,258)\n",
      "Principal repayments of finance leases (10,642) (11,163) (7,941)\n",
      "Principal repayments of financing obligations (53) (162) (248)\n",
      "Net cash provided by (used in) financing activities (1,104) 6,291 9,718\n"
     ]
    }
   ],
   "source": [
    "print(retrieved_docs[0].page_content)"
   ]
  },
  {
   "cell_type": "markdown",
   "id": "ab3152a7-d33d-4eaf-81fc-15e174d119d1",
   "metadata": {},
   "source": [
    "Now, let's initialize the chain using the `ParentDocumentRetriever`. We will pass the prompt in via the chain_type_kwargs argument."
   ]
  },
  {
   "cell_type": "code",
   "execution_count": 39,
   "id": "3d573ec9-5865-4dc7-9a47-183b70afce7f",
   "metadata": {
    "tags": []
   },
   "outputs": [],
   "source": [
    "qa = RetrievalQA.from_chain_type(\n",
    "    llm=llm,\n",
    "    chain_type=\"stuff\",\n",
    "    retriever=retriever,\n",
    "    return_source_documents=True,\n",
    "    chain_type_kwargs={\"prompt\": PROMPT}\n",
    ")"
   ]
  },
  {
   "cell_type": "markdown",
   "id": "98c73af7-fde2-4f30-8dba-c9f3d1dfac83",
   "metadata": {},
   "source": [
    "Let's start asking questions:"
   ]
  },
  {
   "cell_type": "code",
   "execution_count": 40,
   "id": "320966d5-e056-452d-81ed-1cb67c873f32",
   "metadata": {
    "tags": []
   },
   "outputs": [
    {
     "name": "stdout",
     "output_type": "stream",
     "text": [
      "According to the provided context, AWS sales increased 13% in 2023, compared to the prior year, primarily reflecting increased customer usage, partially offset by pricing changes, primarily driven by long-term customer contracts. Additionally, AWS operating income increased by $1.79 billion in 2023, compared to the prior year, primarily due to increased sales, partially offset by increased payroll and related expenses and spending on technology infrastructure.\n",
      "\n",
      "[Document(page_content='Table of Contents\\nAWS sales increased 13% in 2023, compared to the prior year. The sales growth primarily reflects increased customer usage, partially offset by pricing\\nchanges, primarily driven by long-term customer contracts.\\nOperating Income (Loss)\\nOperating income (loss) by segment is as follows (in millions):\\nYear Ended December 31,\\n2022 2023\\nOperating Income (Loss)\\nNorth America $ (2,847)$ 14,877 \\nInternational (7,746) (2,656)\\nAWS 22,841 24,631 \\nConsolidated $ 12,248 $ 36,852 \\nOperating income was $12.2 billion and $36.9 billion for 2022 and 2023. We believe that operating income is a more meaningful measure than gross\\nprofit and gross margin due to the diversity of our product categories and services.\\nThe North America operating income in 2023, as compared to the operating loss in the prior year, is primarily due to increased unit sales and increased\\nadvertising sales, partially offset by increased shipping and fulfillment costs and increased technology and infrastructure costs.\\nThe decrease in International operating loss in absolute dollars in 2023, compared to the prior year, is primarily due to increased unit sales and increased\\nadvertising sales, partially offset by increased fulfillment and shipping costs and increased technology and infrastructure costs. Changes in foreign exchange\\nrates positively impacted operating loss by $246 million in 2023.\\nThe increase in AWS operating income in absolute dollars in 2023, compared to the prior year, is primarily due to increased sales, partially offset by\\nincreased payroll and related expenses and spending on technology infrastructure, both of which were primarily driven by additional investments to support\\nAWS business growth. Changes in foreign exchange rates positively impacted operating income by $220 million in 2023.\\n25', metadata={'year': 2024, 'source': 'AMZN-2024-10-K-Annual-Report.pdf'}), Document(page_content='Table of Contents\\nInternational sales decreased 8% in 2022, compared to the prior year, primarily due to the impact of changes in foreign currency exchange rates, partially\\noffset by increased unit sales, including sales by third-party sellers, advertising sales, and subscription services. Increased unit sales were driven largely by our\\ncontinued focus on price, selection, and convenience for our customers, including from our shipping offers. Changes in foreign currency exchange rates\\nreduced International net sales by $15.0 billion in 2022.\\nAWS sales increased 29% in 2022, compared to the prior year. The sales growth primarily reflects increased customer usage, partially offset by pricing\\nchanges, primarily driven by long-term customer contracts.\\nOperating Income (Loss)\\nOperating income (loss) by segment is as follows (in millions):\\nYear Ended December 31,\\n2021 2022\\nOperating Income (Loss)\\nNorth America $ 7,271 $ (2,847)\\nInternational (924) (7,746)\\nAWS 18,532 22,841 \\nConsolidated $ 24,879 $ 12,248 \\nOperating income was $24.9 billion and $12.2 billion for 2021 and 2022. We believe that operating income is a more meaningful measure than gross\\nprofit and gross margin due to the diversity of our product categories and services.\\nThe North America operating loss in 2022, as compared to the operating income in the prior year, is primarily due to increased fulfillment and shipping\\ncosts, due in part to increases in investments in our fulfillment network, transportation costs, and wage rates and incentives, increased technology and content\\ncosts, and growth in certain operating expenses, partially offset by increased unit sales, including sales by third-party sellers, and advertising sales. Changes in\\nforeign currency exchange rates positively impacted operating loss by $274 million in 2022.\\nThe increase in International operating loss in absolute dollars in 2022, compared to the prior year, is primarily due to increased fulfillment and shipping', metadata={'year': 2023, 'source': 'AMZN-2023-10-K-Annual-Report.pdf'})]\n"
     ]
    }
   ],
   "source": [
    "query = \"How did AWS perform in 2023?\"\n",
    "result = qa({\"query\": query})\n",
    "print(result['result'])\n",
    "\n",
    "print(f\"\\n{result['source_documents']}\")"
   ]
  },
  {
   "cell_type": "code",
   "execution_count": 41,
   "id": "8b17a9cb-f084-4db5-9047-1d7b1244fa47",
   "metadata": {
    "tags": []
   },
   "outputs": [
    {
     "name": "stdout",
     "output_type": "stream",
     "text": [
      "Based on the provided context, some of the risk factors associated with Amazon include:\n",
      "\n",
      "1. Inventory risk factors:\n",
      "\t* Overstocking or understocking products\n",
      "\t* Difficulty in establishing vendor relationships and forecasting demand for new products\n",
      "\t* Significant lead-time and prepayment required for certain inventory or components\n",
      "\t* Inventory levels of certain products, such as consumer electronics, may not be sold in sufficient quantities or meet demand during relevant selling seasons\n",
      "2. Payments-related risks:\n",
      "\t* Compliance with regulations and requirements for various payment options, including enhanced authentication obligations\n",
      "\n",
      "Please note that this is not an exhaustive list, and Amazon may face other risk factors not mentioned in the provided context.\n",
      "\n",
      "[Document(page_content='eavor to accurately predict these trends and avoid overstocking or understocking products we manufacture and/or sell. Demand forproducts, however, can change signi\\nficantly between the time inventory or components are ordered and the date of sale. In addition, when we begin selling ormanufacturing a new product, \\nit may be difficult to establish vendor relationships, determine appropriate product or component selection, and accurately forecastdemand. The acquisition of c\\nertain types of inventory or components requires significant lead-time and prepayment and they may not be returnable. We carry abroad selection and signif\\nicant inventory levels of certain products, such as consumer electronics, and at times we are unable to sell products in sufficient quantitiesor to meet demand during th\\ne relevant selling seasons. Any one of the inventory risk factors set forth above may adversely affect our operating results.We Are Subject to Payments-Related Risks\\nWe accept payments using\\n a variety of methods, including credit card, debit card, credit accounts (including promotional financing), gift cards, direct debitfrom a customer’s bank a\\nccount, consumer invoicing, physical bank check, and payment upon delivery. For existing and future payment options we offer to ourcustomers, we currently a\\nre subject to, and may become subject to additional, regulations and compliance requirements (including obligations to implementenhanced authentication\\n12', metadata={'year': 2021, 'source': 'AMZN-2021-10-K-Annual-Report.pdf'})]\n"
     ]
    }
   ],
   "source": [
    "query = \"What are some of the risk factors associated to Amazon?\"\n",
    "result = qa({\"query\": query})\n",
    "print(result['result'])\n",
    "\n",
    "print(f\"\\n{result['source_documents']}\")"
   ]
  },
  {
   "cell_type": "code",
   "execution_count": 42,
   "id": "14e42c67-99f3-4722-aab4-48e486147b08",
   "metadata": {},
   "outputs": [
    {
     "name": "stdout",
     "output_type": "stream",
     "text": [
      "According to the provided context, Amazon was involved in the following lawsuits in 2022:\n",
      "\n",
      "1. In March 2022, a case was stayed pending resolution of review petitions filed with the United States Patent and Trademark Office in Kove IO, Inc. v. Amazon Web Services, Inc. The case was stayed in March 2022 and the stay was lifted in November 2022.\n",
      "2. In September 2022, the California Attorney General brought a suit against Amazon in the California Superior Court for the County of San Francisco, alleging violations of federal and state antitrust and consumer protection laws.\n",
      "\n",
      "Note that there may be other lawsuits mentioned in the context that are not specifically dated to 2022, but these are the two cases that are explicitly mentioned as occurring in that year.\n",
      "\n",
      "[Document(page_content='Photos, Alexa, AWS cloud services, Ring, Amazon Connect, Amazon’s Flex driver app, and Amazon’s virtual try-on technology. The complaints seek\\ncertification as class actions, unspecified amounts of damages, injunctive relief, attorneys’ fees, costs, and interest. We dispute the allegations of wrongdoing\\nand intend to defend ourselves vigorously in these matters.\\nBeginning in March 2020 with Frame-Wilson v. Amazon.com, Inc. filed in the United States District Court for the Western District of Washington\\n(“W.D. Wash.”), private litigants have filed a number of cases in the U.S. and Canada alleging, among other things, price fixing arrangements between\\nAmazon.com, Inc. and vendors and third-party sellers in Amazon’s stores, monopolization and attempted monopolization, and consumer protection and unjust\\nenrichment claims. Attorneys General for the District of Columbia and California brought similar suits in May 2021 and September 2022 in the Superior Court\\nof the District of Columbia and the California Superior Court for the County of San Francisco, respectively. Some of the private cases include allegations of\\nseveral distinct purported classes, including consumers who purchased a product through Amazon’s stores and consumers who purchased a product offered by\\nAmazon through another e-commerce retailer. The complaints seek billions of dollars of alleged damages, treble damages, punitive damages, injunctive relief,\\ncivil penalties, attorneys’ fees, and costs. The Federal Trade Commission and a number of state Attorneys General filed a similar lawsuit in September 2023 in\\nthe W.D. Wash. alleging violations of federal antitrust and state antitrust and consumer protection laws. That complaint alleges, among other things, that\\nAmazon has a monopoly in markets for online superstores and marketplace services, and unlawfully maintains those monopolies through anticompetitive', metadata={'year': 2024, 'source': 'AMZN-2024-10-K-Annual-Report.pdf'}), Document(page_content='unspecified amount of damages, enhanced damages, an ongoing royalty, interest, attorneys’ fees, and costs. We dispute the allegations of wrongdoing and\\nintend to defend ourselves vigorously in this matter.\\nIn December 2018, Kove IO, Inc. filed a complaint against Amazon Web Services, Inc. in the United States District Court for the Northern District of\\nIllinois. The complaint alleges, among other things, that Amazon S3 and DynamoDB infringe U.S. Patent Nos. 7,814,170 and 7,103,640, both entitled\\n“Network Distributed Tracking Wire Transfer Protocol”; and 7,233,978, entitled “Method and Apparatus for Managing Location Information in a Network\\nSeparate from the Data to Which the Location Information Pertains.” The complaint seeks an unspecified amount of damages, enhanced damages, attorneys’\\nfees, costs, interest, and injunctive relief. In March 2022, the case was stayed pending resolution of review petitions we filed with the United States Patent and\\nTrademark Office. In November 2022, the stay was lifted. We dispute the allegations of wrongdoing and intend to defend ourselves vigorously in this matter.\\nBeginning in March 2020, with Frame-Wilson v. Amazon.com, Inc. filed in the United States District Court for the Western District of Washington,\\nprivate litigants have filed a number of cases in the U.S. and Canada alleging, among other things, price fixing arrangements between Amazon.com, Inc. and\\nvendors and third-party sellers in Amazon’s stores, monopolization and attempted monopolization, and consumer protection and unjust enrichment claims.\\nAttorneys General for the District of Columbia and California brought similar suits in May 2021 and September 2022 in the Superior Court of the District of\\nColumbia and the California Superior Court for the County of San Francisco, respectively. Some of the private cases include allegations of several distinct', metadata={'year': 2023, 'source': 'AMZN-2023-10-K-Annual-Report.pdf'})]\n"
     ]
    }
   ],
   "source": [
    "query = \"Was Amazon involved in any lawsuits in 2022? What were they?\"\n",
    "result = qa({\"query\": query})\n",
    "print(result['result'])\n",
    "\n",
    "print(f\"\\n{result['source_documents']}\")"
   ]
  },
  {
   "cell_type": "code",
   "execution_count": 43,
   "id": "b54db0b8-bc30-4010-aae8-f4ff371e3fe1",
   "metadata": {},
   "outputs": [
    {
     "name": "stdout",
     "output_type": "stream",
     "text": [
      "According to the provided context, the net sales change from 2022 to 2023 was a 12% increase, from $574,785 million to $513,983 million.\n",
      "\n",
      "[Document(page_content='Table of Contents\\nResults of Operations\\nWe have organized our operations into three segments: North America, International, and AWS. These segments reflect the way the Company evaluates\\nits business performance and manages its operations. See Item 8 of Part II, “Financial Statements and Supplementary Data — Note 10 — Segment\\nInformation.”\\nOverview\\nMacroeconomic factors, including inflation, increased interest rates, significant capital market and supply chain volatility, and global economic and\\ngeopolitical developments, have direct and indirect impacts on our results of operations that are difficult to isolate and quantify. In addition, changes in fuel,\\nutility, and food costs, interest rates, and economic outlook may impact customer demand and our ability to forecast consumer spending patterns. We also\\nexpect the current macroeconomic environment and enterprise customer cost optimization efforts to impact our AWS revenue growth rates. We expect some or\\nall of these factors to continue to impact our operations into Q1 2024.\\nNet Sales\\nNet sales include product and service sales. Product sales represent revenue from the sale of products and related shipping fees and digital media content\\nwhere we record revenue gross. Service sales primarily represent third-party seller fees, which includes commissions and any related fulfillment and shipping\\nfees, AWS sales, advertising services, Amazon Prime membership fees, and certain digital media content subscriptions. Net sales information is as follows (in\\nmillions):\\n  Year Ended December 31,\\n 2022 2023\\nNet Sales:\\nNorth America $ 315,880 $ 352,828 \\nInternational 118,007 131,200 \\nAWS 80,096 90,757 \\nConsolidated $ 513,983 $ 574,785 \\nYear-over-year Percentage Growth (Decline):\\nNorth America 13 % 12 %\\nInternational (8) 11 \\nAWS 29 13 \\nConsolidated 9 12 \\nYear-over-year Percentage Growth, excluding the effect of foreign exchange rates:\\nNorth America 13 % 12 %\\nInternational 4 11 \\nAWS 29 13 \\nConsolidated 13 12 \\nNet Sales Mix:', metadata={'year': 2024, 'source': 'AMZN-2024-10-K-Annual-Report.pdf'}), Document(page_content='millions):\\n  Year Ended December 31,\\n 2021 2022\\nNet Sales:\\nNorth America $ 279,833 $ 315,880 \\nInternational 127,787 118,007 \\nAWS 62,202 80,096 \\nConsolidated $ 469,822 $ 513,983 \\nYear-over-year Percentage Growth (Decline):\\nNorth America 18 % 13 %\\nInternational 22 (8)\\nAWS 37 29 \\nConsolidated 22 9 \\nYear-over-year Percentage Growth, excluding the effect of foreign exchange rates:\\nNorth America 18 % 13 %\\nInternational 20 4 \\nAWS 37 29 \\nConsolidated 21 13 \\nNet sales mix:\\nNorth America 60 % 61 %\\nInternational 27 23 \\nAWS 13 16 \\nConsolidated 100 % 100 %\\nSales increased 9% in 2022, compared to the prior year. Changes in foreign currency exchange rates reduced net sales by $15.5 billion in 2022. For a\\ndiscussion of the effect of foreign exchange rates on sales growth, see “Effect of Foreign Exchange Rates” below.\\nNorth America sales increased 13% in 2022, compared to the prior year. The sales growth primarily reflects increased unit sales, including sales by third-\\nparty sellers, advertising sales, and subscription services. Increased unit sales were driven largely by our continued focus on price, selection, and convenience\\nfor our customers, including from our shipping offers.\\n23', metadata={'year': 2023, 'source': 'AMZN-2023-10-K-Annual-Report.pdf'})]\n"
     ]
    }
   ],
   "source": [
    "query = \"What was the net sales change from 2022 to 2023?\"\n",
    "result = qa({\"query\": query})\n",
    "print(result['result'])\n",
    "\n",
    "print(f\"\\n{result['source_documents']}\")"
   ]
  },
  {
   "cell_type": "markdown",
   "id": "d52e4c55-0f80-47eb-83f7-6ae28fedf57f",
   "metadata": {},
   "source": [
    "## Conclusion\n",
    "---"
   ]
  },
  {
   "cell_type": "markdown",
   "id": "dd32616f-9b97-4960-9ccc-47f20a95dcc6",
   "metadata": {},
   "source": [
    "Congratulations on completing the advanced retrieval augmented generation with `Llama3 8b`! These are important techniques that combines the power of large language models with the precision of retrieval methods. Upon comparing these different techniques, we are able to see that in contexts like detailing AWS’s transition from a simple service to a complex, multi-billion-dollar entity, or explaining Amazon's strategic successes, the Regular Retriever Chain lacks the precision the more sophisticated techniques offer, leading to less targeted information. While there are quite few differences visible between the Advanced techniques discussed, they are far and away more informative than Regular Retriever Chains. For customers in industries such as HCLS, Telecommunications, and FSI who are looking to implement RAG in their applications,  the limitations of the Regular Retriever Chain in providing precision, avoiding redundancy, and effectively compressing information make them less suited to fulfilling these needs compared to the more advanced Parent Document Retriever and Contextual Compression techniques, that are able to distill the vast amounts of information into the concentrated, impactful insights that customers need, while helping improve price performance."
   ]
  },
  {
   "cell_type": "markdown",
   "id": "e83d260d-8771-41ae-b173-0f81228b28dc",
   "metadata": {},
   "source": [
    "In the above implementation of Advanced RAG based Question Answering we have explored the following concepts and how to implement them using Amazon Bedrock and it's LangChain integration."
   ]
  },
  {
   "cell_type": "markdown",
   "id": "de5d08cb-6828-4089-a8fc-55c12637a2f1",
   "metadata": {},
   "source": [
    "- Setting up `Llama3-8b` and `Titan Embedding Text v2` with Bedrock and LangChain\n",
    "- Loading documents of different kind and generating embeddings to create a vector store\n",
    "- Retrieving documents to the question using the following approaches from LangChain\n",
    "    - Regular Retrieval Chain\n",
    "    - Parent Document Retriever Chain\n",
    "- Preparing a prompt which goes as input to the LLM\n",
    "- Present an answer in a human friendly manner"
   ]
  },
  {
   "cell_type": "markdown",
   "id": "b8f4d089-edb7-47ba-b7a2-7115b48026e9",
   "metadata": {},
   "source": [
    "### "
   ]
  },
  {
   "cell_type": "markdown",
   "id": "db0319f2-5309-45ba-a15c-2ff7b3720133",
   "metadata": {},
   "source": [
    "### Take-aways\n",
    "---\n",
    "- Experiment with different retrieval techniques\n",
    "- Leverage `Llama3-8b` and `Amazon Titan Embedding Text v2` models available under Amazon Bedrock\n",
    "- Explore options such as persistent storage of embeddings and document chunks\n",
    "- Integration with enterprise data stores"
   ]
  },
  {
   "cell_type": "markdown",
   "id": "eaa7dc0f-cf00-4bd7-a20c-8952ef75fa86",
   "metadata": {},
   "source": [
    "# Thank You!"
   ]
  }
 ],
 "metadata": {
  "kernelspec": {
   "display_name": "Python 3 (ipykernel)",
   "language": "python",
   "name": "python3"
  },
  "language_info": {
   "codemirror_mode": {
    "name": "ipython",
    "version": 3
   },
   "file_extension": ".py",
   "mimetype": "text/x-python",
   "name": "python",
   "nbconvert_exporter": "python",
   "pygments_lexer": "ipython3",
   "version": "3.10.14"
  }
 },
 "nbformat": 4,
 "nbformat_minor": 5
}
